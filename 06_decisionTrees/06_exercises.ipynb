{
 "cells": [
  {
   "cell_type": "markdown",
   "metadata": {},
   "source": [
    "#### 1. What is the approximate depth of a Decision Tree trained (without restrictions) on a training set with 1 million instances?\n",
    "\n",
    "I am not quite sure that the depth will reach 1 million, but I know it will get extremely large. It will overfit the training instances until it reaches 0 Gini impurity, and will not generalize well at all."
   ]
  },
  {
   "cell_type": "markdown",
   "metadata": {},
   "source": [
    "#### 2. Is a node's Gini impurity generally lower or greater than its parent's? Is it *generally* lower/greater or *always* lower/greater?\n",
    "\n",
    "Gini impurity is lower in a child node than in its parent node, because the tree found an optimal threshold that will lower Gini impurity. This is always the case, because the CART algorithm \"stops recursing once it reaches the maximum depth... or it cannot find a split that will reduce impurity.\" If the algorithm cannot find a suitable solution, that node will not split further and will stay as a leaf."
   ]
  },
  {
   "cell_type": "markdown",
   "metadata": {},
   "source": [
    "#### 3. If a Decision Tree is overfitting the training set, is it a good idea to try decreasing `max_depth`?\n",
    "Yes. The `max_depth` in many ways functions as the number of parameters of the model, as in the case of Polynomial Regression/Classification. Therefore, reducing `max_depth` can prevent overfitting, but there are also other hyperparameters to modify as well."
   ]
  },
  {
   "cell_type": "code",
   "execution_count": null,
   "metadata": {
    "collapsed": true
   },
   "outputs": [],
   "source": []
  }
 ],
 "metadata": {
  "kernelspec": {
   "display_name": "Python 3",
   "language": "python",
   "name": "python3"
  },
  "language_info": {
   "codemirror_mode": {
    "name": "ipython",
    "version": 3
   },
   "file_extension": ".py",
   "mimetype": "text/x-python",
   "name": "python",
   "nbconvert_exporter": "python",
   "pygments_lexer": "ipython3",
   "version": "3.6.3"
  }
 },
 "nbformat": 4,
 "nbformat_minor": 2
}
