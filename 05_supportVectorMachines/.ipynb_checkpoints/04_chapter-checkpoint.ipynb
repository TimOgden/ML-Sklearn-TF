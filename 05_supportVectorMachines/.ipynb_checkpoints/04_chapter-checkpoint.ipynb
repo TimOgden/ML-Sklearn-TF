{
 "cells": [
  {
   "cell_type": "markdown",
   "metadata": {},
   "source": [
    "# Support Vector Machines\n",
    "\n",
    "\"SVMs are particularly well suited for classification of complex but small- or medium-sized datasets.\"\n",
    "\n",
    "The idea behind SVMs can be thought of as \"fitting the widest possible street... between the classes.\"\n",
    "\n",
    "If you train a linear classification model on two classes, it may accurately separate the classes in the training set, however it may come very close to the instances, so much that it may not be accurate when given new instances it hasn't trained on. The idea of fitting the widest street allows for the best separation between the classes.\n",
    "\n",
    "This process is called **large margin classification**."
   ]
  },
  {
   "cell_type": "markdown",
   "metadata": {},
   "source": [
    "Now if we add more training instances clearly towards one class or another, it will not change the slope or location of the road at all. This is because the decision boundary is \"fully determined (or \"supported\") by the instances located on the edge of the street. These instances are called **support vectors**."
   ]
  },
  {
   "cell_type": "markdown",
   "metadata": {},
   "source": [
    "#### Soft Margin Classification\n",
    "Strictly forcing all positive instances to be off the street and on the right side is called a **hard margin**. The issue with  this kind of classification is that it is super susceptible to outliers and that it will only work if the data is linearly seperable.\n",
    "\n",
    "A better solution is **soft margin classification**. Here, \"the objective is to find a good balance between keeping the street as large as possible and limiting the **margin violiations** (i.e., instances that end up in the middle of the street or even on the wrong side)."
   ]
  },
  {
   "cell_type": "code",
   "execution_count": null,
   "metadata": {
    "collapsed": true
   },
   "outputs": [],
   "source": []
  }
 ],
 "metadata": {
  "kernelspec": {
   "display_name": "Python 3",
   "language": "python",
   "name": "python3"
  },
  "language_info": {
   "codemirror_mode": {
    "name": "ipython",
    "version": 3
   },
   "file_extension": ".py",
   "mimetype": "text/x-python",
   "name": "python",
   "nbconvert_exporter": "python",
   "pygments_lexer": "ipython3",
   "version": "3.6.3"
  }
 },
 "nbformat": 4,
 "nbformat_minor": 2
}
