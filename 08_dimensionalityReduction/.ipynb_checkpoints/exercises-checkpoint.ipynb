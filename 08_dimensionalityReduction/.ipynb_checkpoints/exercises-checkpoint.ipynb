{
 "cells": [
  {
   "cell_type": "markdown",
   "metadata": {},
   "source": [
    "**1. What are the main motivations for reducing a dataset's dimensionality? What are the main drawbacks?**\n",
    "\n",
    "\"Apart from speeding up training, dimensionality reduction is also extremely useful for data visualization.\" As humans that live in a universe composed of 3 spatial dimensions, we have a lot of difficulty visualizing data that goes beyond the 3 dimensions. For example, something like an MNIST image will have 28\\*28=784 dimensions which can't be plotted on a graph with just two or three axes. Reducing dimensionality will both speed up the training process and also make it possible (in most cases) to plot your data and make it readable to humans.\n",
    "\n",
    "As for drawbacks, it's impossible to reduce a dataset's dimensionality without some loss, and thus will \"make your system perform slightly worse.\" The book also makes the case that \"it also makes your pipelines a bit more complex and thus harder to maintain,\" and while I think it's a valid point, I can't imagine that being anything beyond fairly trivial work."
   ]
  },
  {
   "cell_type": "markdown",
   "metadata": {},
   "source": [
    "**2. What is the curse of dimensionality? **\n",
    "The curse of dimensionality is the accumulation of all the issues that arise from dealing with high-dimensional data. The inability to visualize or conceptualize, but also the fact that \"high-dimensional datasets are at risk of being very sparse.\" This means that two instances of data are much more likely to be far away from eachother than in a low-dimensional dataset. This will increase the likelihood of overfitting."
   ]
  },
  {
   "cell_type": "markdown",
   "metadata": {},
   "source": [
    "**3. Once a dataset's dimensionality has been reduced, is it possible to reverse the operation? If so, how? If not, why?**\n",
    "\n",
    "Theoretically, yes. In the kPCA algorithm example, we used the inverse transform function to reconstruct the dataset and evaluate the loss function compared to the original dataset. However, there will be a lot of loss, and the reconstruction will be nowhere near perfect.\n",
    "\n",
    "Actually, ANN autoencoders can do this much better, because the whole point is to backpropogate to get the network to emulate the identity function as best as it can."
   ]
  },
  {
   "cell_type": "markdown",
   "metadata": {},
   "source": [
    "**4. Can PCA be used to reduce the dimensionality of a highly nonlinear dataset?**\n",
    "\n",
    "Regular PCA is going to work linearly, so no. However, Kernel PCA works really well for high-dimensional nonlinear data."
   ]
  },
  {
   "cell_type": "markdown",
   "metadata": {},
   "source": [
    "**5. Suppose you perform PCA on a 1,000-dimensional dataset, setting the explained variance ratio to 95%. How many dimensions will the resulting dataset have?**\n",
    "\n",
    "Well, I think there is no way to give an exact answer because every dataset will be different, but in most cases, you can reduce the dataset with PCA by 80% or so with an explained variance ratio of 95%, so approximately 200 dimensions."
   ]
  },
  {
   "cell_type": "markdown",
   "metadata": {},
   "source": [
    "**6. In what cases would you use vanilla PCA, Incremental PCA, Randomized PCA, or Kernel PCA?**\n",
    "\n",
    "Vanilla PCA is a good jumping off point. Unless you have a very complex dataset that folds over in many dimensions, it should work fine. \n",
    "\n",
    "However, if your dataset is larger than your memory, you can use Incremental PCA, which will take batches of data and partially fit the principal components. \n",
    "\n",
    "Randomized PCA has sort of the same idea, but this algorithm will quickly approximate the first *d* principal components, and will have a much smaller computational complexity than Incremental PCA when *d* is much smaller than *n*. So if you wanted to turn a 10,000-dimensional dataset into a 2-dimensional dataset (for whatever reason), you would run a lot faster using Randomized PCA.\n",
    "\n",
    "Kernel PCA will work a lot better for doing complex nonlinear projections, and in many cases can unfold Manifolds."
   ]
  },
  {
   "cell_type": "markdown",
   "metadata": {},
   "source": [
    "**7. How can you evaluate the performance of a dimensionality reduction algorithm on your dataset?**\n",
    "\n",
    "Perhaps the easiest way is to reduce your dataset (or a subset of your dataset), and then run that reduced set through the `inverse_transform` function to return the dataset back to its original dimensionality. Then, you can use mean squared error or mean absolute error or whatever loss function you want to evaluate how much value was lost."
   ]
  },
  {
   "cell_type": "markdown",
   "metadata": {},
   "source": [
    "**8. Does it make any sense to chain two different dimensionality reduction algorithms?**\n",
    "\n",
    "I suppose you could, maybe for example use LLE to unfold a twisted Manifold will result in the Manifold being unwrapped but still existing in 3 dimensional space on a plane not parallel to any of the standard planes. Then PCA would be good for defining two principle components to find the ideal plane to project the instances onto. Would this be better than just using one LLE algorithm to go from n dimensions to 2 dimensions? That would have to be tested on your dataset."
   ]
  },
  {
   "cell_type": "markdown",
   "metadata": {},
   "source": [
    "**9. Train a Random Forest MNIST classifier without dimensionality reduction and again with PCA. How does it perform differently?**"
   ]
  },
  {
   "cell_type": "code",
   "execution_count": 43,
   "metadata": {},
   "outputs": [],
   "source": [
    "from sklearn.ensemble import RandomForestClassifier\n",
    "from keras.datasets import mnist"
   ]
  },
  {
   "cell_type": "code",
   "execution_count": 94,
   "metadata": {},
   "outputs": [
    {
     "data": {
      "text/plain": [
       "(60000, 154)"
      ]
     },
     "execution_count": 94,
     "metadata": {},
     "output_type": "execute_result"
    }
   ],
   "source": [
    "(x_train, y_train), (x_test, y_test) = mnist.load_data()\n",
    "x_train = x_train.reshape(-1,28*28)\n",
    "x_test = x_test.reshape(-1,28*28)\n",
    "\n",
    "from sklearn.decomposition import PCA\n",
    "\n",
    "pca = PCA(n_components=.95)\n",
    "x_reduced = pca.fit_transform(x_train)\n",
    "x_test_reduced = pca.transform(x_test) # Make sure you do transform and not fit_transform!\n",
    "x_reduced.shape"
   ]
  },
  {
   "cell_type": "code",
   "execution_count": 95,
   "metadata": {},
   "outputs": [
    {
     "data": {
      "text/plain": [
       "<matplotlib.image.AxesImage at 0x1f704a43fd0>"
      ]
     },
     "execution_count": 95,
     "metadata": {},
     "output_type": "execute_result"
    },
    {
     "data": {
      "image/png": "[encoded data removed]",
      "text/plain": [
       "<Figure size 432x288 with 2 Axes>"
      ]
     },
     "metadata": {},
     "output_type": "display_data"
    }
   ],
   "source": [
    "import matplotlib.pyplot as plt\n",
    "%matplotlib inline\n",
    "\n",
    "index = 14\n",
    "plt.subplot(121)\n",
    "plt.imshow(x_train[index].reshape(28,28), cmap=plt.cm.gray)\n",
    "plt.subplot(122)\n",
    "reconstruction = pca.inverse_transform([x_reduced[index]])\n",
    "plt.imshow(reconstruction.reshape(28,28), cmap=plt.cm.gray)"
   ]
  },
  {
   "cell_type": "code",
   "execution_count": 83,
   "metadata": {
    "collapsed": true
   },
   "outputs": [],
   "source": [
    "import time"
   ]
  },
  {
   "cell_type": "code",
   "execution_count": 102,
   "metadata": {},
   "outputs": [],
   "source": [
    "forest_clf = RandomForestClassifier(n_estimators=100, n_jobs=-1, max_depth=3)\n",
    "\n",
    "time_start = time.time()\n",
    "forest_clf.fit(x_reduced, y_train)\n",
    "pca_time = time.time() - time_start"
   ]
  },
  {
   "cell_type": "code",
   "execution_count": 103,
   "metadata": {},
   "outputs": [],
   "source": [
    "from sklearn.metrics import accuracy_score\n",
    "predictions = forest_clf.predict(x_test_reduced)\n",
    "pca_acc = accuracy_score(y_test,predictions)"
   ]
  },
  {
   "cell_type": "code",
   "execution_count": 104,
   "metadata": {},
   "outputs": [
    {
     "name": "stdout",
     "output_type": "stream",
     "text": [
      "The forest_clf with 154 input dimensions took 17.7 seconds and got an accuracy score of 74.4%\n"
     ]
    }
   ],
   "source": [
    "print('The forest_clf with {} input dimensions took {} seconds and got an accuracy score of {}%'\n",
    "      .format(pca.n_components_,round(pca_time,1),round(pca_acc*100,1)))"
   ]
  },
  {
   "cell_type": "code",
   "execution_count": 105,
   "metadata": {},
   "outputs": [],
   "source": [
    "\n",
    "time_start = time.time()\n",
    "forest_clf.fit(x_train, y_train)\n",
    "non_pca_time = time.time() - time_start"
   ]
  },
  {
   "cell_type": "code",
   "execution_count": 106,
   "metadata": {},
   "outputs": [],
   "source": [
    "predictions = forest_clf.predict(x_test)\n",
    "non_pca_acc = accuracy_score(y_test,predictions)"
   ]
  },
  {
   "cell_type": "code",
   "execution_count": 107,
   "metadata": {},
   "outputs": [
    {
     "name": "stdout",
     "output_type": "stream",
     "text": [
      "The vanilla forest_clf with 784 input dimensions took 8.1 seconds to train and got an accuracy score of 75.1%\n"
     ]
    }
   ],
   "source": [
    "print('The vanilla forest_clf with 784 input dimensions took {} seconds to train and got an accuracy score of {}%'\n",
    "      .format(round(non_pca_time,1),round(non_pca_acc*100,1)))"
   ]
  },
  {
   "cell_type": "markdown",
   "metadata": {},
   "source": [
    "** 10. Use t-SNE to reduce the MNIST dataset down to two dimensions.**"
   ]
  },
  {
   "cell_type": "code",
   "execution_count": null,
   "metadata": {},
   "outputs": [],
   "source": [
    "from sklearn.manifold import TSNE\n",
    "\n",
    "tsne = TSNE(n_components=2)\n",
    "x_reduced = tsne.fit_transform(x_train[:1000])"
   ]
  },
  {
   "cell_type": "code",
   "execution_count": null,
   "metadata": {
    "collapsed": true
   },
   "outputs": [],
   "source": [
    "plt.scatter(x_reduced)"
   ]
  },
  {
   "cell_type": "code",
   "execution_count": null,
   "metadata": {
    "collapsed": true
   },
   "outputs": [],
   "source": []
  }
 ],
 "metadata": {
  "kernelspec": {
   "display_name": "Python 3",
   "language": "python",
   "name": "python3"
  },
  "language_info": {
   "codemirror_mode": {
    "name": "ipython",
    "version": 3
   },
   "file_extension": ".py",
   "mimetype": "text/x-python",
   "name": "python",
   "nbconvert_exporter": "python",
   "pygments_lexer": "ipython3",
   "version": "3.6.3"
  }
 },
 "nbformat": 4,
 "nbformat_minor": 2
}
