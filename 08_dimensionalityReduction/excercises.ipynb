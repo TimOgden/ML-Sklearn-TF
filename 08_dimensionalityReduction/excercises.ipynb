{
 "cells": [
  {
   "cell_type": "markdown",
   "metadata": {},
   "source": [
    "**1. What are the main motivations for reducing a dataset's dimensionality? What are the main drawbacks?**\n",
    "\n",
    "\"Apart from speeding up training, dimensionality reduction is also extremely useful for data visualization.\" As humans that live in a universe composed of 3 spatial dimensions, we have a lot of difficulty visualizing data that goes beyond the 3 dimensions. For example, something like an MNIST image will have 28\\*28=784 dimensions which can't be plotted on a graph with just two or three axes. Reducing dimensionality will both speed up the training process and also "
   ]
  },
  {
   "cell_type": "code",
   "execution_count": null,
   "metadata": {
    "collapsed": true
   },
   "outputs": [],
   "source": []
  }
 ],
 "metadata": {
  "kernelspec": {
   "display_name": "Python 3",
   "language": "python",
   "name": "python3"
  },
  "language_info": {
   "codemirror_mode": {
    "name": "ipython",
    "version": 3
   },
   "file_extension": ".py",
   "mimetype": "text/x-python",
   "name": "python",
   "nbconvert_exporter": "python",
   "pygments_lexer": "ipython3",
   "version": "3.6.3"
  }
 },
 "nbformat": 4,
 "nbformat_minor": 2
}
