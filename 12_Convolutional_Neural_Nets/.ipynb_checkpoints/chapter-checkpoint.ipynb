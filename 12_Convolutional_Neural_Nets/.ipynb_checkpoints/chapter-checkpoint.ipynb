{
 "cells": [
  {
   "cell_type": "markdown",
   "metadata": {},
   "source": [
    "# Convolutional Neural Networks\n",
    "\n",
    "CNN's are the most practical way to make visual-based neural networks. They also work well for other non-visual tasks such as  NLP and voice recognition, but for now we will just focus on the visual aspects.\n",
    "\n",
    "The idea of convolutional networks is based on how the human visual cortex works. Many neuroms in the visual cortext \"have a small *local receptive field*, meaning they react only to visual stimuli located in a limited region of the visual field.\" The neurons also work hierarchaly just like a regualar perceptron, and lower neurons will detect lines and edges of specific relations and the high level neurons will detect more complex shapes and patterns.\n",
    "\n",
    "### Convolutional Layer\n",
    "\n",
    "\"Neurons in the first convolutional layer are not connected to every single pixel in the input image (like they were in previous chapters), but only to pixels in their receptive fields. In turn each neuron in the second convolutional layer is connected only to neurons located within a small rectangle in the first layer.\"\n",
    "\n",
    "This process of creating partially connected layers is much better than Dense networks since it significantly reduces the exploding exponentiation of connections.\n",
    "\n",
    "\"Until now, all multilayer neural networks we looked at had layers composed of a long line of neurons, and we had to flatten input images to 1D before feeding them to the neural network. Now each layer is represented in 2D, which makes it easier to match neurons with their corresponding inputs.\"\n",
    "\n",
    "We can change the size of the fields and also the *stride* or the jumps between each receptive fields. It is definitely possible that the receptive fields are too large at the edges that they don't fit entirely on the image. This is obviously true when the layers are the same size and shape. To remedy this, we can use padding, such as surrounding the border of the image with 0's or the same as the original border so that we have more room."
   ]
  },
  {
   "cell_type": "markdown",
   "metadata": {},
   "source": [
    "### Filters\n",
    "\n",
    "Since we now have 2-dimensional layers, we can consider a layer's weights as a grayscale image. We can consider several pre-built *filters* or *convolution kernels*, for example a horizontal filter, which is a 7x7 matrix with 0's everywhere except for a horizontal line of 1's in the middle. Another possible filter is the vertical filter, which you can imagine is similar but the 1's make a vertical line."
   ]
  },
  {
   "cell_type": "code",
   "execution_count": 5,
   "metadata": {},
   "outputs": [
    {
     "data": {
      "image/png": "[encoded data removed]",
      "text/plain": [
       "<Figure size 432x288 with 2 Axes>"
      ]
     },
     "metadata": {
      "needs_background": "light"
     },
     "output_type": "display_data"
    }
   ],
   "source": [
    "import numpy as np\n",
    "import matplotlib.pyplot as plt\n",
    "hor = np.zeros((7,7))\n",
    "hor[3] = np.ones(7)\n",
    "vert = np.zeros((7,7))\n",
    "vert[:,3] = 7\n",
    "plt.subplot(121)\n",
    "plt.title('Horizontal filter')\n",
    "plt.imshow(hor, cmap=plt.cm.gray)\n",
    "plt.subplot(122)\n",
    "plt.title('Vertical filter')\n",
    "plt.imshow(vert, cmap=plt.cm.gray)\n",
    "plt.show()"
   ]
  },
  {
   "cell_type": "markdown",
   "metadata": {},
   "source": [
    "If we have a layer that has all its neurons using the vertical filter, and we fed an image into it, all the vertical lines in the image will enhance all the vertical lines while blurring out the rest of the image. \"Thus, a layer full of neurons using the same filter gives you a *feature map*, wich highlights the areas in an image that are most similar to the filter. During training, a CNN finds the most useful filters for its task and it learns to combine them into more complex patterns.\""
   ]
  },
  {
   "cell_type": "markdown",
   "metadata": {},
   "source": [
    "### Stacking Multiple Feature Maps\n",
    "\n",
    "\"Up to now, for simplicity, we have represented each convolutional layer as a thin 2D layer, but in reality it is composed of several feature maps of equal sizes, so it is more accurately represented in 3D. Within one feature map, all neurons share the same parameters (weights and bias term) [which is its filter] but different feature maps may have different parameters.\"\n",
    "\n",
    "\"The fact that all neurons in a feature map share the same paramter dramatically reduces the number of parameters in the model, but most importantly it means that once the CNN has learned to recognize a pattern in one location, it can recognize it in any other location. In contrast, once a regular DNN has learned to recognize a pattern in one location, it can recognize it only in that particular location.\""
   ]
  },
  {
   "cell_type": "markdown",
   "metadata": {},
   "source": [
    "\"Specifically, a neuron located in row i, column j of jthe feature map k in a given convolutional layer l is connected to the output of the neurons in the previous layer l-1 located in rows i x stride_h to i x stride_h + f_h - 1 and columns j x stride_w to j x stride_w + f_w - 1 across all feature maps in layer l-1.\""
   ]
  },
  {
   "cell_type": "markdown",
   "metadata": {},
   "source": [
    "### Memory Requirements\n",
    "\n",
    "One issue with CNNs is that all the intermediate values that are computed during the forward pass need to be held in memory for the backpropogation pass.\n",
    "\n",
    "Now let's look at the second common building block of CNNs: the *pooling layer*."
   ]
  },
  {
   "cell_type": "markdown",
   "metadata": {},
   "source": [
    "### Pooling Layer"
   ]
  },
  {
   "cell_type": "markdown",
   "metadata": {},
   "source": [
    "Pooling layers are actually really simple. They work very similar in that each neuron has a receptive field that it is connected to in the next layer, and you can adjust these with the size, stride and controlling the padding, but the neuron actually has no weights at all. Instead, it simply works as an aggregate function. It will either find the maximum value of each value in the receptive field, or it will find the average value of each value in the receptive field.\n",
    "\n",
    "Pooling layers are useful in subsampling or shrinking \"the input image in order to reduce the computational load, the memory usage, and the number of parameters (thereby limiting the risk of overfitting).\""
   ]
  },
  {
   "cell_type": "markdown",
   "metadata": {},
   "source": [
    "### CNN Architectures\n",
    "\n",
    "Usually, CNN architectures are structured as having a few Convolution layers stacked on top of each other with a ReLU activation and with pooling layers in between. \"The image gets smaller and smaller as it progresses through the network, but it also typically gets deeper and deeper (i.e., with more feature maps) thanks to the convolutional layers. Then once the image is small enough and you have enough feature maps, you can then add a few fully connected layers and a final layer to output a regression or classification depending on your task.\n",
    "\n",
    "However, very powerful alternate CNN architectures have come about in recent years that use very different approaches. We will summarize and try to implement (sometimes simplified) versions of the same architectures in Keras."
   ]
  },
  {
   "cell_type": "markdown",
   "metadata": {},
   "source": [
    "#### LeNet-5\n",
    "\n",
    "\"The LeNet-5 architecture is perhaps the most widely known CNN architecture. As mentioned earlier, it was created by Yann LeCun in 1998 and widely used for hand-written digit recognition (MNIST).\"\n",
    "\n",
    "| Layer | Type            | Maps | Size  | Kernel size | Stride | Activation |\n",
    "|-------|-----------------|------|-------|-------------|--------|------------|\n",
    "| Out   | Fully Connected | -    | 10    | -           | -      | RBF        |\n",
    "| F6    | Fully Connected | -    | 84    | -           | -      | tanh       |\n",
    "| C5    | Convolution     | 120  | 1x1   | 5x5         | 1      | tanh       |\n",
    "| S4    | Avg Pooling     | 16   | 5x5   | 2x2         | 2      | tanh       |\n",
    "| C3    | Convolution     | 16   | 10x10 | 5x5         | 1      | tanh       |\n",
    "| S2    | Average Pooling | 6    | 14x14 | 2x2         | 2      | tanh       |\n",
    "| C1    | Convolution     | 6    | 28x28 | 5x5         | 1      | tanh       |\n",
    "| In    | Input           | 1    | 32x32 | -           | -      | -          |"
   ]
  },
  {
   "cell_type": "markdown",
   "metadata": {},
   "source": [
    "\"There are a few extra details to be noted:\n",
    "\n",
    "- MNIST images are 28x28 pixels, but they are zero-padded to 32x32 pixels and normalized before being fed to the network. The rest of the network does not use any padding, which is why the size keeps shrinking as the image progresses through the network.\n",
    "\n",
    "- The average pooling layers are slightly more complex than usual: each neuron computes the mean of its inputs, then multiplies the result by a learnable coefficient (one per map) and adds a learnable bias term (again, one per map), then finally applies the activation function.\n",
    "\n",
    "- Most neurons in C3 maps are connected to neurons in only three or four S2 maps (instead of all six S2 maps). [Note: I don't know too much about that and I don't want to spend hours on this one network, so we will just disregard that.]\n",
    "\n",
    "- The output layer is a bit special: instead of computing the matrix multiplication of the inputs and the weight vector, each neuron outputs the square of the Euclidean distance between its input vector and its weight vector. Each output measures how much the image belongs to a particular digit class. The cross entropy cost function is now preferred, as it penalizes bad predictions much more, producing larger gradients and thus converging faster.\""
   ]
  },
  {
   "cell_type": "code",
   "execution_count": 6,
   "metadata": {},
   "outputs": [],
   "source": [
    "import tensorflow as tf"
   ]
  },
  {
   "cell_type": "code",
   "execution_count": 14,
   "metadata": {},
   "outputs": [],
   "source": [
    "# first we need to define this slightly modified average pooling layer ourselves\n",
    "\n",
    "class AvgPooling2D_Linear(tf.keras.layers.AveragePooling2D):\n",
    "    \n",
    "    def __init__(self, input_dim=6, strides=2, activation=None):\n",
    "        super(AvgPooling2D_Linear, self).__init__()\n",
    "        w_init = tf.random_normal_initializer()\n",
    "        self.w = tf.Variable(initial_value=w_init(shape=(input_dim,), dtype='float32'), trainable=True)\n",
    "        b_init = tf.zeros_initializer()\n",
    "        self.b = tf.Variable(initial_value=b_init(shape=(input_dim,), dtype='float32'), trainable=True)"
   ]
  },
  {
   "cell_type": "code",
   "execution_count": 20,
   "metadata": {},
   "outputs": [],
   "source": [
    "# also we need to define the modified output layer\n",
    "\n",
    "class Alternate_Output(tf.keras.layers.Layer):\n",
    "    def __init__(self, units=32, inputs_dim=32):\n",
    "        super(Alternate_Output, self).__init__()\n",
    "        w_init = tf.random_normal_initializer()\n",
    "        self.w = tf.Variable(initial_value=w_init(shape=(inputs_dim, units),\n",
    "                                                  dtype='float32'), trainable=True)\n",
    "        b_init = tf.zeros_initializer()\n",
    "        self.b = tf.Variable(initial_value=b_init(shape=(units,),\n",
    "                                                  dtype='float32'),  trainable=True)\n",
    "    def call(self, inputs):\n",
    "        return tf.abs(tf.math.subtract(inputs,self.w)) # I don't understand how I can find the Euclidean distance\n",
    "                                                        # with 84 inputs and 10 weights??? Whatever, I'll just use a regular dense layer for now"
   ]
  },
  {
   "cell_type": "code",
   "execution_count": 22,
   "metadata": {},
   "outputs": [],
   "source": [
    "inputs = tf.keras.layers.Input((28,28,1))\n",
    "zero_pad = tf.keras.layers.ZeroPadding2D(padding=(2,2))(inputs)\n",
    "c1 = tf.keras.layers.Conv2D(6, (5,5), strides=1, activation='tanh')(zero_pad)\n",
    "s2 = AvgPooling2D_Linear(input_dim=6, strides=2, activation='tanh')(c1)\n",
    "c3 = tf.keras.layers.Conv2D(16, (5,5), strides=1, activation='tanh')(s2)\n",
    "s4 = AvgPooling2D_Linear(input_dim=16, strides=2, activation='tanh')(c3)\n",
    "c5 = tf.keras.layers.Conv2D(120, (5,5), strides=1, activation='tanh')(s4)\n",
    "f6 = tf.keras.layers.Dense(84, activation='tanh')(c5)\n",
    "outputs = tf.keras.layers.Dense(10, activation='softmax')(f6)\n",
    "leNet = tf.keras.models.Model(inputs=[inputs], outputs=[outputs])"
   ]
  },
  {
   "cell_type": "code",
   "execution_count": null,
   "metadata": {},
   "outputs": [],
   "source": []
  }
 ],
 "metadata": {
  "kernelspec": {
   "display_name": "Python (tf)",
   "language": "python",
   "name": "tensorflow"
  },
  "language_info": {
   "codemirror_mode": {
    "name": "ipython",
    "version": 3
   },
   "file_extension": ".py",
   "mimetype": "text/x-python",
   "name": "python",
   "nbconvert_exporter": "python",
   "pygments_lexer": "ipython3",
   "version": "3.8.3"
  }
 },
 "nbformat": 4,
 "nbformat_minor": 4
}
