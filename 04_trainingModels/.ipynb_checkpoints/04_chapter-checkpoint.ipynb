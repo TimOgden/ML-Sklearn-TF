{
 "cells": [
  {
   "cell_type": "markdown",
   "metadata": {
    "collapsed": true
   },
   "source": [
    "# Training Models\n",
    "\n",
    "### Linear Regression\n",
    "\n",
    "A linear regression model \"makes a prediction by simply computing a weighted sum of the input features, plus a constant called the *bias term* (also called the *intercept term*)\"\n",
    "\n",
    "y_hat = theta_0 + theta_1\\*x1 + theta_2\\*x2 + theta_3\\*x3 + ... + theta_n\\*xn"
   ]
  },
  {
   "cell_type": "markdown",
   "metadata": {},
   "source": [
    "A vectorized form of this is:\n",
    "\n",
    "y_hat = h(x) = theta DOT x\n",
    "\n",
    "h(x) is called the hypothesis function that uses the model parameters (weights) theta."
   ]
  },
  {
   "cell_type": "markdown",
   "metadata": {},
   "source": [
    "*Important note:*\n",
    "\"In Machine Learning, vectors are often represented as *column vectors*, which are 2D arrays with a single column. If theta and x are column vectors, then the prediction is:\n",
    "\n",
    "y_hat = matrix_mult(theta_transposed,x)"
   ]
  },
  {
   "cell_type": "markdown",
   "metadata": {},
   "source": [
    "Now, all we have to do is find the values of theta that minimize the cost function. There are two ways we can go about this, the **Normal Equation** or **Gradient Descent**"
   ]
  },
  {
   "cell_type": "markdown",
   "metadata": {},
   "source": [
    "#### The Normal Equation"
   ]
  },
  {
   "cell_type": "markdown",
   "metadata": {},
   "source": [
    "There is a *closed-form solution* or a mathematical equation that gives the result directly, known as the Normal Equation:\n",
    "\n",
    "theta_hat = (matrix_mult(x_transposed,x))^-1  x_transposed  y\n",
    "\n",
    "Let's test this in python:"
   ]
  },
  {
   "cell_type": "code",
   "execution_count": null,
   "metadata": {
    "collapsed": true
   },
   "outputs": [],
   "source": []
  }
 ],
 "metadata": {
  "kernelspec": {
   "display_name": "Python 3",
   "language": "python",
   "name": "python3"
  },
  "language_info": {
   "codemirror_mode": {
    "name": "ipython",
    "version": 3
   },
   "file_extension": ".py",
   "mimetype": "text/x-python",
   "name": "python",
   "nbconvert_exporter": "python",
   "pygments_lexer": "ipython3",
   "version": "3.6.3"
  }
 },
 "nbformat": 4,
 "nbformat_minor": 2
}
